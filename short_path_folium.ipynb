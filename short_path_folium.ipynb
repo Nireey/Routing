{
 "cells": [
  {
   "cell_type": "code",
   "execution_count": 12,
   "metadata": {},
   "outputs": [],
   "source": [
    "import networkx as nx\n",
    "import osmnx as ox\n",
    "import folium"
   ]
  },
  {
   "cell_type": "markdown",
   "metadata": {},
   "source": [
    "### Importing Required Libraries\n",
    "This code imports three essential libraries:\n",
    "1. **NetworkX (`nx`)**: For working with graphs and networks.\n",
    "2. **OSMnx (`ox`)**: For downloading and analyzing street networks.\n",
    "3. **Folium**: For creating interactive maps and visualizations."
   ]
  },
  {
   "cell_type": "code",
   "execution_count": 13,
   "metadata": {},
   "outputs": [],
   "source": [
    "# Download the street network of Kathmandu\n",
    "city_graph = ox.graph.graph_from_place(\"Kathmandu, Nepal\", network_type=\"drive\")\n",
    "city_graph = ox.routing.add_edge_speeds(city_graph)\n",
    "city_graph = ox.routing.add_edge_travel_times(city_graph)"
   ]
  },
  {
   "cell_type": "markdown",
   "metadata": {},
   "source": [
    "### Downloading and Preparing the Street Network\n",
    "This code downloads the street network of **Kathmandu, Nepal** using OSMnx. It then adds:\n",
    "1. **Edge Speeds**: To include vehicle speeds on the roads.\n",
    "2. **Edge Travel Times**: To estimate how long it takes to travel along each road segment.\n",
    "\n",
    "These steps prepare the network for route analysis and further exploration."
   ]
  },
  {
   "cell_type": "code",
   "execution_count": 23,
   "metadata": {},
   "outputs": [],
   "source": [
    "# Define start, end, and optional waypoint coordinates\n",
    "start_coords = (27.69970737488004, 85.35676239625207)  # Tribhuvan International Airport\n",
    "end_coords = (27.733461006817382, 85.30841816824604)      # Gongabu Bus Park\n",
    "waypoint_coords = (27.706081413150063, 85.3076778310561)       # Basantapur Durbar Square"
   ]
  },
  {
   "cell_type": "markdown",
   "metadata": {},
   "source": [
    "### Defining Start, End, and Waypoint Coordinates\n",
    "This code sets the coordinates for three key locations in Kathmandu:\n",
    "1. **Start Point**: Tribhuvan International Airport.\n",
    "2. **End Point**: Gongabu Bus Park.\n",
    "3. **Waypoint**: Basantapur Durbar Square (optional intermediate stop).\n",
    "\n",
    "These coordinates will be used to calculate and visualize the routes."
   ]
  },
  {
   "cell_type": "code",
   "execution_count": 24,
   "metadata": {},
   "outputs": [],
   "source": [
    "#Find the nearest nodes\n",
    "start_node = ox.distance.nearest_nodes(city_graph, X=start_coords[1], Y=start_coords[0])\n",
    "end_node = ox.distance.nearest_nodes(city_graph, X=end_coords[1], Y=end_coords[0])\n",
    "waypoint_node = ox.distance.nearest_nodes(city_graph, X=waypoint_coords[1], Y=waypoint_coords[0])"
   ]
  },
  {
   "cell_type": "markdown",
   "metadata": {},
   "source": [
    "### Finding the Nearest Nodes on the Street Network\n",
    "This code finds the nearest nodes (intersections) on the street network for the following locations:\n",
    "1. **Start Point**: The nearest node to Tribhuvan International Airport.\n",
    "2. **End Point**: The nearest node to Gongabu Bus Park.\n",
    "3. **Waypoint**: The nearest node to Basantapur Durbar Square.\n",
    "\n",
    "These nodes represent the closest points on the road network to the given coordinates."
   ]
  },
  {
   "cell_type": "code",
   "execution_count": 25,
   "metadata": {},
   "outputs": [],
   "source": [
    "# Compute routes\n",
    "# Shortest travel time route\n",
    "shortest_route_time = ox.routing.shortest_path(city_graph, start_node, end_node, weight=\"travel_time\")\n",
    "# Shortest distance route\n",
    "shortest_route_distance = ox.routing.shortest_path(city_graph, start_node, end_node, weight=\"length\")\n",
    "# Route via waypoint\n",
    "route_with_waypoint = (\n",
    "    ox.routing.shortest_path(city_graph, start_node, waypoint_node, weight=\"travel_time\") +\n",
    "    ox.routing.shortest_path(city_graph, waypoint_node, end_node, weight=\"travel_time\")[1:]\n",
    ")   "
   ]
  },
  {
   "cell_type": "markdown",
   "metadata": {},
   "source": [
    "### Computing Routes\n",
    "This code computes three types of routes between the start and end points:\n",
    "1. **Shortest Travel Time Route**: The route that minimizes travel time, using \"travel_time\" as the weight.\n",
    "2. **Shortest Distance Route**: The route that minimizes the total distance, using \"length\" as the weight.\n",
    "3. **Route via Waypoint**: A route that passes through an intermediate waypoint (Basantapur Durbar Square), combining two shortest paths: from start to waypoint and from waypoint to end.\n"
   ]
  },
  {
   "cell_type": "code",
   "execution_count": 26,
   "metadata": {},
   "outputs": [],
   "source": [
    "# Create an interactive map\n",
    "route_map = folium.Map(location=[(start_coords[0] + end_coords[0]) / 2, (start_coords[1] + end_coords[1]) / 2],\n",
    "                       zoom_start=14, tiles=\"cartodbpositron\")"
   ]
  },
  {
   "cell_type": "markdown",
   "metadata": {},
   "source": [
    "### Creating an Interactive Map\n",
    "This code creates an interactive map using **Folium**:\n",
    "- The map is centered at the midpoint between the start and end coordinates.\n",
    "- The **zoom level** is set to 14 for better street-level visibility.\n",
    "- The **CartoDB positron** style is used for a clean, minimal map design.\n",
    "\n",
    "This map will be used to visualize the routes on the map."
   ]
  },
  {
   "cell_type": "code",
   "execution_count": 27,
   "metadata": {},
   "outputs": [
    {
     "data": {
      "text/plain": [
       "<folium.vector_layers.PolyLine at 0x19fcf02e050>"
      ]
     },
     "execution_count": 27,
     "metadata": {},
     "output_type": "execute_result"
    }
   ],
   "source": [
    "# Add routes to the map\n",
    "folium.PolyLine([(city_graph.nodes[node][\"y\"], city_graph.nodes[node][\"x\"]) for node in shortest_route_time],\n",
    "                color=\"blue\", weight=5, opacity=0.7, tooltip=\"Shortest Time Route\").add_to(route_map)\n",
    "\n",
    "folium.PolyLine([(city_graph.nodes[node][\"y\"], city_graph.nodes[node][\"x\"]) for node in shortest_route_distance],\n",
    "                color=\"green\", weight=5, opacity=0.7, tooltip=\"Shortest Distance Route\").add_to(route_map)\n",
    "\n",
    "folium.PolyLine([(city_graph.nodes[node][\"y\"], city_graph.nodes[node][\"x\"]) for node in route_with_waypoint],\n",
    "                color=\"orange\", weight=5, opacity=0.7, tooltip=\"Route via Waypoint\").add_to(route_map)\n"
   ]
  },
  {
   "cell_type": "markdown",
   "metadata": {},
   "source": [
    "### Adding Routes to the Map\n",
    "This code adds the computed routes to the interactive map:\n",
    "1. **Shortest Time Route**: Displayed in blue with a tooltip showing \"Shortest Time Route\".\n",
    "2. **Shortest Distance Route**: Displayed in green with a tooltip showing \"Shortest Distance Route\".\n",
    "3. **Route via Waypoint**: Displayed in orange with a tooltip showing \"Route via Waypoint\".\n",
    "\n",
    "Each route is represented as a **polyline** connecting the nodes of the respective path on the street network.\n"
   ]
  },
  {
   "cell_type": "code",
   "execution_count": 28,
   "metadata": {},
   "outputs": [
    {
     "data": {
      "text/plain": [
       "<folium.map.Marker at 0x19fc74c6e10>"
      ]
     },
     "execution_count": 28,
     "metadata": {},
     "output_type": "execute_result"
    }
   ],
   "source": [
    "# Add start, end, and waypoint markers\n",
    "folium.Marker(location=start_coords, tooltip=\"Start\", icon=folium.Icon(color=\"green\")).add_to(route_map)\n",
    "folium.Marker(location=end_coords, tooltip=\"End\", icon=folium.Icon(color=\"red\")).add_to(route_map)\n",
    "folium.Marker(location=waypoint_coords, tooltip=\"Waypoint\", icon=folium.Icon(color=\"purple\")).add_to(route_map)"
   ]
  },
  {
   "cell_type": "code",
   "execution_count": 29,
   "metadata": {},
   "outputs": [
    {
     "data": {
      "text/plain": [
       "<folium.map.Marker at 0x19fc5150290>"
      ]
     },
     "execution_count": 29,
     "metadata": {},
     "output_type": "execute_result"
    }
   ],
   "source": [
    "# Display travel metrics\n",
    "# Shortest route length (time)\n",
    "route_length_time = sum(ox.routing.route_to_gdf(city_graph, shortest_route_time)[\"length\"])\n",
    "route_time = sum(ox.routing.route_to_gdf(city_graph, shortest_route_time)[\"travel_time\"]) / 60  # in minutes\n",
    "folium.Marker(location=[start_coords[0], start_coords[1] + 0.002], \n",
    "              popup=f\"Shortest Time Route: {int(route_length_time)} m, {route_time:.1f} min\").add_to(route_map)"
   ]
  },
  {
   "cell_type": "markdown",
   "metadata": {},
   "source": [
    "### Displaying Travel Metrics for the Shortest Time Route\n",
    "This code calculates and displays the travel metrics for the **Shortest Time Route**:\n",
    "- **Route Length**: The total distance in meters.\n",
    "- **Travel Time**: The total time in minutes, converted from seconds.\n",
    "\n",
    "The metrics are displayed on the map as a **popup** on the start marker, showing both the route length and travel time."
   ]
  },
  {
   "cell_type": "code",
   "execution_count": 30,
   "metadata": {},
   "outputs": [
    {
     "data": {
      "text/plain": [
       "<folium.map.Marker at 0x19fca8c1190>"
      ]
     },
     "execution_count": 30,
     "metadata": {},
     "output_type": "execute_result"
    }
   ],
   "source": [
    "# Shortest route length (distance)\n",
    "route_length_distance = sum(ox.routing.route_to_gdf(city_graph, shortest_route_distance)[\"length\"])\n",
    "folium.Marker(location=[start_coords[0] + 0.002, start_coords[1]],\n",
    "              popup=f\"Shortest Distance Route: {int(route_length_distance)} m\").add_to(route_map)"
   ]
  },
  {
   "cell_type": "markdown",
   "metadata": {},
   "source": [
    "### Displaying Travel Metrics for the Shortest Distance Route\n",
    "This code calculates and displays the travel metrics for the **Shortest Distance Route**:\n",
    "- **Route Length**: The total distance in meters.\n",
    "\n",
    "The metric is displayed on the map as a **popup** on the start marker, showing the route length.\n"
   ]
  },
  {
   "cell_type": "code",
   "execution_count": null,
   "metadata": {},
   "outputs": [
    {
     "data": {
      "text/html": [
       "<div style=\"width:100%;\"><div style=\"position:relative;width:100%;height:0;padding-bottom:60%;\"><span style=\"color:#565656\">Make this Notebook Trusted to load map: File -> Trust Notebook</span><iframe srcdoc=\"&lt;!DOCTYPE html&gt;\n",
       "&lt;html&gt;\n",
       "&lt;head&gt;\n",
       "    \n",
       "    &lt;meta http-equiv=&quot;content-type&quot; content=&quot;text/html; charset=UTF-8&quot; /&gt;\n",
       "    \n",
       "        &lt;script&gt;\n",
       "            L_NO_TOUCH = false;\n",
       "            L_DISABLE_3D = false;\n",
       "        &lt;/script&gt;\n",
       "    \n",
       "    &lt;style&gt;html, body {width: 100%;height: 100%;margin: 0;padding: 0;}&lt;/style&gt;\n",
       "    &lt;style&gt;#map {position:absolute;top:0;bottom:0;right:0;left:0;}&lt;/style&gt;\n",
       "    &lt;script src=&quot;https://cdn.jsdelivr.net/npm/leaflet@1.9.3/dist/leaflet.js&quot;&gt;&lt;/script&gt;\n",
       "    &lt;script src=&quot;https://code.jquery.com/jquery-3.7.1.min.js&quot;&gt;&lt;/script&gt;\n",
       "    &lt;script src=&quot;https://cdn.jsdelivr.net/npm/bootstrap@5.2.2/dist/js/bootstrap.bundle.min.js&quot;&gt;&lt;/script&gt;\n",
       "    &lt;script src=&quot;https://cdnjs.cloudflare.com/ajax/libs/Leaflet.awesome-markers/2.0.2/leaflet.awesome-markers.js&quot;&gt;&lt;/script&gt;\n",
       "    &lt;link rel=&quot;stylesheet&quot; href=&quot;https://cdn.jsdelivr.net/npm/leaflet@1.9.3/dist/leaflet.css&quot;/&gt;\n",
       "    &lt;link rel=&quot;stylesheet&quot; href=&quot;https://cdn.jsdelivr.net/npm/bootstrap@5.2.2/dist/css/bootstrap.min.css&quot;/&gt;\n",
       "    &lt;link rel=&quot;stylesheet&quot; href=&quot;https://netdna.bootstrapcdn.com/bootstrap/3.0.0/css/bootstrap-glyphicons.css&quot;/&gt;\n",
       "    &lt;link rel=&quot;stylesheet&quot; href=&quot;https://cdn.jsdelivr.net/npm/@fortawesome/fontawesome-free@6.2.0/css/all.min.css&quot;/&gt;\n",
       "    &lt;link rel=&quot;stylesheet&quot; href=&quot;https://cdnjs.cloudflare.com/ajax/libs/Leaflet.awesome-markers/2.0.2/leaflet.awesome-markers.css&quot;/&gt;\n",
       "    &lt;link rel=&quot;stylesheet&quot; href=&quot;https://cdn.jsdelivr.net/gh/python-visualization/folium/folium/templates/leaflet.awesome.rotate.min.css&quot;/&gt;\n",
       "    \n",
       "            &lt;meta name=&quot;viewport&quot; content=&quot;width=device-width,\n",
       "                initial-scale=1.0, maximum-scale=1.0, user-scalable=no&quot; /&gt;\n",
       "            &lt;style&gt;\n",
       "                #map_4fddaf6b3e976a1c169101cef7ba2a4b {\n",
       "                    position: relative;\n",
       "                    width: 100.0%;\n",
       "                    height: 100.0%;\n",
       "                    left: 0.0%;\n",
       "                    top: 0.0%;\n",
       "                }\n",
       "                .leaflet-container { font-size: 1rem; }\n",
       "            &lt;/style&gt;\n",
       "        \n",
       "&lt;/head&gt;\n",
       "&lt;body&gt;\n",
       "    \n",
       "    \n",
       "            &lt;div class=&quot;folium-map&quot; id=&quot;map_4fddaf6b3e976a1c169101cef7ba2a4b&quot; &gt;&lt;/div&gt;\n",
       "        \n",
       "    \n",
       "    &lt;div style=&quot;position: fixed; \n",
       "                top: 10px; bottom: 10px; right: 10px; width: 180px; height: 160px; \n",
       "                background-color: white; z-index: 9999; font-size: 12px; \n",
       "                border:2px solid grey; border-radius: 5px; padding: 10px;&quot;&gt;\n",
       "        &lt;b&gt;Route Legend&lt;/b&gt;&lt;br&gt;&lt;br&gt;\n",
       "        &lt;i style=&quot;background:blue; padding:5px;&quot;&gt;&lt;/i&gt; Shortest Time Route&lt;br&gt;\n",
       "        &lt;i style=&quot;background:green; padding:5px;&quot;&gt;&lt;/i&gt; Shortest Distance Route&lt;br&gt;\n",
       "        &lt;i style=&quot;background:orange; padding:5px;&quot;&gt;&lt;/i&gt; Route via Waypoint&lt;br&gt;\n",
       "        &lt;i style=&quot;background:green; padding:5px;&quot;&gt;&lt;/i&gt; Start&lt;br&gt;\n",
       "        &lt;i style=&quot;background:red; padding:5px;&quot;&gt;&lt;/i&gt; End&lt;br&gt;\n",
       "        &lt;i style=&quot;background:purple; padding:5px;&quot;&gt;&lt;/i&gt; Waypoint&lt;br&gt;\n",
       "    &lt;/div&gt;\n",
       "&lt;/body&gt;\n",
       "&lt;script&gt;\n",
       "    \n",
       "    \n",
       "            var map_4fddaf6b3e976a1c169101cef7ba2a4b = L.map(\n",
       "                &quot;map_4fddaf6b3e976a1c169101cef7ba2a4b&quot;,\n",
       "                {\n",
       "                    center: [27.716584190848714, 85.33259028224904],\n",
       "                    crs: L.CRS.EPSG3857,\n",
       "                    zoom: 14,\n",
       "                    zoomControl: true,\n",
       "                    preferCanvas: false,\n",
       "                }\n",
       "            );\n",
       "\n",
       "            \n",
       "\n",
       "        \n",
       "    \n",
       "            var tile_layer_62ddd2dd0a31d1650627ac71222c7818 = L.tileLayer(\n",
       "                &quot;https://{s}.basemaps.cartocdn.com/light_all/{z}/{x}/{y}{r}.png&quot;,\n",
       "                {&quot;attribution&quot;: &quot;\\u0026copy; \\u003ca href=\\&quot;https://www.openstreetmap.org/copyright\\&quot;\\u003eOpenStreetMap\\u003c/a\\u003e contributors \\u0026copy; \\u003ca href=\\&quot;https://carto.com/attributions\\&quot;\\u003eCARTO\\u003c/a\\u003e&quot;, &quot;detectRetina&quot;: false, &quot;maxNativeZoom&quot;: 20, &quot;maxZoom&quot;: 20, &quot;minZoom&quot;: 0, &quot;noWrap&quot;: false, &quot;opacity&quot;: 1, &quot;subdomains&quot;: &quot;abcd&quot;, &quot;tms&quot;: false}\n",
       "            );\n",
       "        \n",
       "    \n",
       "            tile_layer_62ddd2dd0a31d1650627ac71222c7818.addTo(map_4fddaf6b3e976a1c169101cef7ba2a4b);\n",
       "        \n",
       "    \n",
       "            var poly_line_dc2f4f4476c189ee82d66c5aeaccb4a1 = L.polyline(\n",
       "                [[27.7004848, 85.3567063], [27.7006221, 85.356196], [27.7007906, 85.355871], [27.7010728, 85.3537116], [27.7009197, 85.3534988], [27.700976, 85.3534503], [27.7011814, 85.3532849], [27.7018301, 85.3527674], [27.7024717, 85.3522917], [27.7030506, 85.3520619], [27.7061987, 85.3500792], [27.7061046, 85.3495262], [27.7059826, 85.3487359], [27.7058959, 85.3481248], [27.7057711, 85.3472993], [27.7057634, 85.347173], [27.7065173, 85.345181], [27.7068196, 85.3448065], [27.7071989, 85.3442788], [27.7077664, 85.3432989], [27.708049, 85.3421912], [27.7080116, 85.340468], [27.7079595, 85.3394172], [27.7080114, 85.3383161], [27.7080243, 85.3380185], [27.7080524, 85.3373708], [27.7080932, 85.3363787], [27.7081352, 85.3354549], [27.7081516, 85.3350363], [27.7081935, 85.3339623], [27.7082069, 85.3336194], [27.7082183, 85.3333267], [27.7082982, 85.3329987], [27.7086184, 85.3317847], [27.7087029, 85.3314097], [27.7088925, 85.3306926], [27.7089793, 85.3302035], [27.7090307, 85.3298996], [27.7090678, 85.3297364], [27.7092221, 85.3291323], [27.7093011, 85.328823], [27.7095664, 85.3278367], [27.7099079, 85.3263381], [27.7098415, 85.3261358], [27.7100076, 85.3259478], [27.7101003, 85.3250121], [27.7101494, 85.3244068], [27.7101299, 85.324279], [27.7102468, 85.3230619], [27.7102859, 85.3226667], [27.7102787, 85.3221256], [27.7105115, 85.3219708], [27.7121019, 85.3221487], [27.7133112, 85.3219903], [27.7136702, 85.3219451], [27.7136476, 85.3210171], [27.7136614, 85.3201709], [27.7135095, 85.3191295], [27.7132602, 85.3181378], [27.7132118, 85.3178924], [27.7132138, 85.3178133], [27.7132758, 85.3175164], [27.7133175, 85.3173162], [27.7136826, 85.315416], [27.716847, 85.3160433], [27.7170386, 85.3157626], [27.7173248, 85.3147563], [27.7177837, 85.3131812], [27.7181314, 85.3120749], [27.7181382, 85.3120142], [27.7181897, 85.3115701], [27.7182173, 85.3112896], [27.7182139, 85.310556], [27.7181223, 85.3101281], [27.718089, 85.3098267], [27.7188423, 85.3095996], [27.719192, 85.3095753], [27.719284, 85.3095412], [27.7207906, 85.3085964], [27.7253588, 85.3054551], [27.7267592, 85.3064944], [27.727598, 85.3068045], [27.7282198, 85.3068617], [27.7284441, 85.3068976], [27.7285505, 85.3069146], [27.731169, 85.306913], [27.7311576, 85.3073105], [27.7311195, 85.3082897], [27.7311823, 85.3092153], [27.7318169, 85.309271], [27.7334693, 85.309344]],\n",
       "                {&quot;bubblingMouseEvents&quot;: true, &quot;color&quot;: &quot;blue&quot;, &quot;dashArray&quot;: null, &quot;dashOffset&quot;: null, &quot;fill&quot;: false, &quot;fillColor&quot;: &quot;blue&quot;, &quot;fillOpacity&quot;: 0.2, &quot;fillRule&quot;: &quot;evenodd&quot;, &quot;lineCap&quot;: &quot;round&quot;, &quot;lineJoin&quot;: &quot;round&quot;, &quot;noClip&quot;: false, &quot;opacity&quot;: 0.7, &quot;smoothFactor&quot;: 1.0, &quot;stroke&quot;: true, &quot;weight&quot;: 5}\n",
       "            ).addTo(map_4fddaf6b3e976a1c169101cef7ba2a4b);\n",
       "        \n",
       "    \n",
       "            poly_line_dc2f4f4476c189ee82d66c5aeaccb4a1.bindTooltip(\n",
       "                `&lt;div&gt;\n",
       "                     Shortest Time Route\n",
       "                 &lt;/div&gt;`,\n",
       "                {&quot;sticky&quot;: true}\n",
       "            );\n",
       "        \n",
       "    \n",
       "            var poly_line_abc9e15d8f6233b480dad57aa8bcdd9b = L.polyline(\n",
       "                [[27.7004848, 85.3567063], [27.7006221, 85.356196], [27.7007906, 85.355871], [27.7010728, 85.3537116], [27.7009197, 85.3534988], [27.700976, 85.3534503], [27.7011814, 85.3532849], [27.7018301, 85.3527674], [27.7024717, 85.3522917], [27.7030506, 85.3520619], [27.70303, 85.3517709], [27.7034394, 85.3509785], [27.7035578, 85.3506759], [27.7035834, 85.3503893], [27.7035347, 85.3501332], [27.7061046, 85.3495262], [27.7059826, 85.3487359], [27.7058959, 85.3481248], [27.7057711, 85.3472993], [27.7057634, 85.347173], [27.7065173, 85.345181], [27.7068196, 85.3448065], [27.7071989, 85.3442788], [27.7077664, 85.3432989], [27.708049, 85.3421912], [27.7080116, 85.340468], [27.7086104, 85.3400993], [27.7093321, 85.3398842], [27.7095507, 85.3398163], [27.7115986, 85.3377387], [27.7117477, 85.3381838], [27.7118802, 85.3369567], [27.7119063, 85.336555], [27.7120719, 85.3360352], [27.7124699, 85.3348254], [27.7135143, 85.3349674], [27.714116, 85.3339378], [27.7145149, 85.3334393], [27.714635, 85.3323783], [27.7155166, 85.3318712], [27.7159667, 85.332028], [27.7162349, 85.3310853], [27.716856, 85.3312905], [27.7171292, 85.3303917], [27.7173266, 85.329543], [27.7177215, 85.3278611], [27.7184426, 85.3280339], [27.7195353, 85.3265933], [27.7193382, 85.326207], [27.7199353, 85.3258295], [27.7202096, 85.3251569], [27.7204274, 85.3245158], [27.7212277, 85.3246104], [27.7213744, 85.3245889], [27.7223432, 85.3249142], [27.7224324, 85.3249016], [27.7233535, 85.3243351], [27.7234058, 85.3242766], [27.7237544, 85.3242374], [27.7246958, 85.3229097], [27.7246711, 85.3223905], [27.7255739, 85.3227676], [27.7257801, 85.3221874], [27.7257866, 85.3219906], [27.7263077, 85.3215417], [27.7270387, 85.3214136], [27.7274307, 85.3212126], [27.7275872, 85.3210958], [27.7285407, 85.3211034], [27.7287691, 85.3202724], [27.7289475, 85.319936], [27.7296692, 85.319086], [27.729802, 85.3189908], [27.7300119, 85.3188241], [27.7305692, 85.3183878], [27.7302083, 85.3178868], [27.7303163, 85.3178325], [27.730529, 85.3174029], [27.7306792, 85.3170359], [27.730355, 85.3169033], [27.7304573, 85.3165977], [27.7305918, 85.3163103], [27.7314456, 85.3163571], [27.7314013, 85.3160094], [27.7319034, 85.3159906], [27.7324109, 85.3146006], [27.7330071, 85.3145565], [27.7331961, 85.3140379], [27.733009, 85.3130589], [27.7331216, 85.3119355], [27.7330854, 85.3119362], [27.7332922, 85.3110134], [27.7338067, 85.3093766], [27.7334693, 85.309344]],\n",
       "                {&quot;bubblingMouseEvents&quot;: true, &quot;color&quot;: &quot;green&quot;, &quot;dashArray&quot;: null, &quot;dashOffset&quot;: null, &quot;fill&quot;: false, &quot;fillColor&quot;: &quot;green&quot;, &quot;fillOpacity&quot;: 0.2, &quot;fillRule&quot;: &quot;evenodd&quot;, &quot;lineCap&quot;: &quot;round&quot;, &quot;lineJoin&quot;: &quot;round&quot;, &quot;noClip&quot;: false, &quot;opacity&quot;: 0.7, &quot;smoothFactor&quot;: 1.0, &quot;stroke&quot;: true, &quot;weight&quot;: 5}\n",
       "            ).addTo(map_4fddaf6b3e976a1c169101cef7ba2a4b);\n",
       "        \n",
       "    \n",
       "            poly_line_abc9e15d8f6233b480dad57aa8bcdd9b.bindTooltip(\n",
       "                `&lt;div&gt;\n",
       "                     Shortest Distance Route\n",
       "                 &lt;/div&gt;`,\n",
       "                {&quot;sticky&quot;: true}\n",
       "            );\n",
       "        \n",
       "    \n",
       "            var poly_line_544d37e41a3d486198ab747fa2d5c392 = L.polyline(\n",
       "                [[27.7004848, 85.3567063], [27.7006221, 85.356196], [27.7007906, 85.355871], [27.7010728, 85.3537116], [27.7009197, 85.3534988], [27.700976, 85.3534503], [27.7011814, 85.3532849], [27.7018301, 85.3527674], [27.7024717, 85.3522917], [27.7030506, 85.3520619], [27.7061987, 85.3500792], [27.7061046, 85.3495262], [27.7059826, 85.3487359], [27.7058959, 85.3481248], [27.7057711, 85.3472993], [27.7057634, 85.347173], [27.7065173, 85.345181], [27.7068196, 85.3448065], [27.7071989, 85.3442788], [27.7077664, 85.3432989], [27.708049, 85.3421912], [27.7080116, 85.340468], [27.7079595, 85.3394172], [27.7080114, 85.3383161], [27.7080243, 85.3380185], [27.7080524, 85.3373708], [27.7080932, 85.3363787], [27.7081352, 85.3354549], [27.7081516, 85.3350363], [27.7081935, 85.3339623], [27.7082069, 85.3336194], [27.7082183, 85.3333267], [27.7082982, 85.3329987], [27.7086184, 85.3317847], [27.7087029, 85.3314097], [27.7088925, 85.3306926], [27.7089793, 85.3302035], [27.7064618, 85.3286107], [27.7060477, 85.3281967], [27.7056301, 85.3277887], [27.7053776, 85.3275187], [27.7053618, 85.3267764], [27.7053884, 85.3261561], [27.7054719, 85.3255352], [27.7055115, 85.3251317], [27.7055661, 85.3246097], [27.7056472, 85.3228701], [27.7056262, 85.3228286], [27.7056199, 85.3220902], [27.7056326, 85.3215684], [27.7056641, 85.3207781], [27.7056791, 85.3204223], [27.7057088, 85.3198812], [27.7057713, 85.3191422], [27.7058287, 85.3184951], [27.7058911, 85.317618], [27.7061501, 85.3162171], [27.7069074, 85.3146006], [27.7070592, 85.3142236], [27.7072941, 85.3133103], [27.7074916, 85.3122531], [27.7066838, 85.3108291], [27.7069719, 85.3097809], [27.7076369, 85.307311], [27.7068123, 85.3070338], [27.7066285, 85.3069781], [27.706157, 85.3068656], [27.7066285, 85.3069781], [27.7068123, 85.3070338], [27.7076369, 85.307311], [27.7085969, 85.307624], [27.7098269, 85.308095], [27.7102825, 85.308209], [27.7111429, 85.3084494], [27.7112003, 85.3084748], [27.7112986, 85.3085893], [27.7114815, 85.3086195], [27.7129907, 85.3086747], [27.7154733, 85.3085785], [27.7155434, 85.3085249], [27.7164744, 85.3086793], [27.7171929, 85.3089905], [27.7174466, 85.3091285], [27.7174816, 85.3091453], [27.7176791, 85.3092774], [27.7177911, 85.3093643], [27.7188423, 85.3095996], [27.719192, 85.3095753], [27.719284, 85.3095412], [27.7207906, 85.3085964], [27.7253588, 85.3054551], [27.7267592, 85.3064944], [27.727598, 85.3068045], [27.7282198, 85.3068617], [27.7284441, 85.3068976], [27.7285505, 85.3069146], [27.731169, 85.306913], [27.7311576, 85.3073105], [27.7311195, 85.3082897], [27.7311823, 85.3092153], [27.7318169, 85.309271], [27.7334693, 85.309344]],\n",
       "                {&quot;bubblingMouseEvents&quot;: true, &quot;color&quot;: &quot;orange&quot;, &quot;dashArray&quot;: null, &quot;dashOffset&quot;: null, &quot;fill&quot;: false, &quot;fillColor&quot;: &quot;orange&quot;, &quot;fillOpacity&quot;: 0.2, &quot;fillRule&quot;: &quot;evenodd&quot;, &quot;lineCap&quot;: &quot;round&quot;, &quot;lineJoin&quot;: &quot;round&quot;, &quot;noClip&quot;: false, &quot;opacity&quot;: 0.7, &quot;smoothFactor&quot;: 1.0, &quot;stroke&quot;: true, &quot;weight&quot;: 5}\n",
       "            ).addTo(map_4fddaf6b3e976a1c169101cef7ba2a4b);\n",
       "        \n",
       "    \n",
       "            poly_line_544d37e41a3d486198ab747fa2d5c392.bindTooltip(\n",
       "                `&lt;div&gt;\n",
       "                     Route via Waypoint\n",
       "                 &lt;/div&gt;`,\n",
       "                {&quot;sticky&quot;: true}\n",
       "            );\n",
       "        \n",
       "    \n",
       "            var marker_25ad62310b1ae390c4b29170b9d080ec = L.marker(\n",
       "                [27.69970737488004, 85.35676239625207],\n",
       "                {}\n",
       "            ).addTo(map_4fddaf6b3e976a1c169101cef7ba2a4b);\n",
       "        \n",
       "    \n",
       "            var icon_b1aad72887eb496fd8c40790be76d6db = L.AwesomeMarkers.icon(\n",
       "                {&quot;extraClasses&quot;: &quot;fa-rotate-0&quot;, &quot;icon&quot;: &quot;info-sign&quot;, &quot;iconColor&quot;: &quot;white&quot;, &quot;markerColor&quot;: &quot;green&quot;, &quot;prefix&quot;: &quot;glyphicon&quot;}\n",
       "            );\n",
       "            marker_25ad62310b1ae390c4b29170b9d080ec.setIcon(icon_b1aad72887eb496fd8c40790be76d6db);\n",
       "        \n",
       "    \n",
       "            marker_25ad62310b1ae390c4b29170b9d080ec.bindTooltip(\n",
       "                `&lt;div&gt;\n",
       "                     Start\n",
       "                 &lt;/div&gt;`,\n",
       "                {&quot;sticky&quot;: true}\n",
       "            );\n",
       "        \n",
       "    \n",
       "            var marker_c0928b24c312e06b5eccbe9852fa1b94 = L.marker(\n",
       "                [27.733461006817382, 85.30841816824604],\n",
       "                {}\n",
       "            ).addTo(map_4fddaf6b3e976a1c169101cef7ba2a4b);\n",
       "        \n",
       "    \n",
       "            var icon_96cab812c03efa3caa7ee9f212fc9cfe = L.AwesomeMarkers.icon(\n",
       "                {&quot;extraClasses&quot;: &quot;fa-rotate-0&quot;, &quot;icon&quot;: &quot;info-sign&quot;, &quot;iconColor&quot;: &quot;white&quot;, &quot;markerColor&quot;: &quot;red&quot;, &quot;prefix&quot;: &quot;glyphicon&quot;}\n",
       "            );\n",
       "            marker_c0928b24c312e06b5eccbe9852fa1b94.setIcon(icon_96cab812c03efa3caa7ee9f212fc9cfe);\n",
       "        \n",
       "    \n",
       "            marker_c0928b24c312e06b5eccbe9852fa1b94.bindTooltip(\n",
       "                `&lt;div&gt;\n",
       "                     End\n",
       "                 &lt;/div&gt;`,\n",
       "                {&quot;sticky&quot;: true}\n",
       "            );\n",
       "        \n",
       "    \n",
       "            var marker_5e23b0458fcbd155be4b30f7b272b26e = L.marker(\n",
       "                [27.706081413150063, 85.3076778310561],\n",
       "                {}\n",
       "            ).addTo(map_4fddaf6b3e976a1c169101cef7ba2a4b);\n",
       "        \n",
       "    \n",
       "            var icon_b2e4cfd7b43f493b9e7e01f063f63572 = L.AwesomeMarkers.icon(\n",
       "                {&quot;extraClasses&quot;: &quot;fa-rotate-0&quot;, &quot;icon&quot;: &quot;info-sign&quot;, &quot;iconColor&quot;: &quot;white&quot;, &quot;markerColor&quot;: &quot;purple&quot;, &quot;prefix&quot;: &quot;glyphicon&quot;}\n",
       "            );\n",
       "            marker_5e23b0458fcbd155be4b30f7b272b26e.setIcon(icon_b2e4cfd7b43f493b9e7e01f063f63572);\n",
       "        \n",
       "    \n",
       "            marker_5e23b0458fcbd155be4b30f7b272b26e.bindTooltip(\n",
       "                `&lt;div&gt;\n",
       "                     Waypoint\n",
       "                 &lt;/div&gt;`,\n",
       "                {&quot;sticky&quot;: true}\n",
       "            );\n",
       "        \n",
       "    \n",
       "            var marker_039de15b3e146a67a359acfbe21fd27d = L.marker(\n",
       "                [27.69970737488004, 85.35876239625206],\n",
       "                {}\n",
       "            ).addTo(map_4fddaf6b3e976a1c169101cef7ba2a4b);\n",
       "        \n",
       "    \n",
       "        var popup_ff0a805d5bd2d7047023b9c5dcacbff5 = L.popup({&quot;maxWidth&quot;: &quot;100%&quot;});\n",
       "\n",
       "        \n",
       "            \n",
       "                var html_b2fd5e649f81ae7e8d239bf4dbc6f7e3 = $(`&lt;div id=&quot;html_b2fd5e649f81ae7e8d239bf4dbc6f7e3&quot; style=&quot;width: 100.0%; height: 100.0%;&quot;&gt;Shortest Time Route: 8129 m, 12.6 min&lt;/div&gt;`)[0];\n",
       "                popup_ff0a805d5bd2d7047023b9c5dcacbff5.setContent(html_b2fd5e649f81ae7e8d239bf4dbc6f7e3);\n",
       "            \n",
       "        \n",
       "\n",
       "        marker_039de15b3e146a67a359acfbe21fd27d.bindPopup(popup_ff0a805d5bd2d7047023b9c5dcacbff5)\n",
       "        ;\n",
       "\n",
       "        \n",
       "    \n",
       "    \n",
       "            var marker_3003c144544d7ab169c71a62970fb533 = L.marker(\n",
       "                [27.70170737488004, 85.35676239625207],\n",
       "                {}\n",
       "            ).addTo(map_4fddaf6b3e976a1c169101cef7ba2a4b);\n",
       "        \n",
       "    \n",
       "        var popup_a5dc1a8cc35a534e2591b88ad6d45c6a = L.popup({&quot;maxWidth&quot;: &quot;100%&quot;});\n",
       "\n",
       "        \n",
       "            \n",
       "                var html_de55ba37f6a6fffd69f7d9d7b4e17c35 = $(`&lt;div id=&quot;html_de55ba37f6a6fffd69f7d9d7b4e17c35&quot; style=&quot;width: 100.0%; height: 100.0%;&quot;&gt;Shortest Distance Route: 7569 m&lt;/div&gt;`)[0];\n",
       "                popup_a5dc1a8cc35a534e2591b88ad6d45c6a.setContent(html_de55ba37f6a6fffd69f7d9d7b4e17c35);\n",
       "            \n",
       "        \n",
       "\n",
       "        marker_3003c144544d7ab169c71a62970fb533.bindPopup(popup_a5dc1a8cc35a534e2591b88ad6d45c6a)\n",
       "        ;\n",
       "\n",
       "        \n",
       "    \n",
       "    \n",
       "            tile_layer_62ddd2dd0a31d1650627ac71222c7818.addTo(map_4fddaf6b3e976a1c169101cef7ba2a4b);\n",
       "        \n",
       "    \n",
       "            tile_layer_62ddd2dd0a31d1650627ac71222c7818.addTo(map_4fddaf6b3e976a1c169101cef7ba2a4b);\n",
       "        \n",
       "    \n",
       "            tile_layer_62ddd2dd0a31d1650627ac71222c7818.addTo(map_4fddaf6b3e976a1c169101cef7ba2a4b);\n",
       "        \n",
       "    \n",
       "            tile_layer_62ddd2dd0a31d1650627ac71222c7818.addTo(map_4fddaf6b3e976a1c169101cef7ba2a4b);\n",
       "        \n",
       "    \n",
       "            tile_layer_62ddd2dd0a31d1650627ac71222c7818.addTo(map_4fddaf6b3e976a1c169101cef7ba2a4b);\n",
       "        \n",
       "    \n",
       "            tile_layer_62ddd2dd0a31d1650627ac71222c7818.addTo(map_4fddaf6b3e976a1c169101cef7ba2a4b);\n",
       "        \n",
       "    \n",
       "            tile_layer_62ddd2dd0a31d1650627ac71222c7818.addTo(map_4fddaf6b3e976a1c169101cef7ba2a4b);\n",
       "        \n",
       "    \n",
       "            tile_layer_62ddd2dd0a31d1650627ac71222c7818.addTo(map_4fddaf6b3e976a1c169101cef7ba2a4b);\n",
       "        \n",
       "    \n",
       "            tile_layer_62ddd2dd0a31d1650627ac71222c7818.addTo(map_4fddaf6b3e976a1c169101cef7ba2a4b);\n",
       "        \n",
       "    \n",
       "            tile_layer_62ddd2dd0a31d1650627ac71222c7818.addTo(map_4fddaf6b3e976a1c169101cef7ba2a4b);\n",
       "        \n",
       "    \n",
       "            tile_layer_62ddd2dd0a31d1650627ac71222c7818.addTo(map_4fddaf6b3e976a1c169101cef7ba2a4b);\n",
       "        \n",
       "    \n",
       "            tile_layer_62ddd2dd0a31d1650627ac71222c7818.addTo(map_4fddaf6b3e976a1c169101cef7ba2a4b);\n",
       "        \n",
       "    \n",
       "            tile_layer_62ddd2dd0a31d1650627ac71222c7818.addTo(map_4fddaf6b3e976a1c169101cef7ba2a4b);\n",
       "        \n",
       "&lt;/script&gt;\n",
       "&lt;/html&gt;\" style=\"position:absolute;width:100%;height:100%;left:0;top:0;border:none !important;\" allowfullscreen webkitallowfullscreen mozallowfullscreen></iframe></div></div>"
      ],
      "text/plain": [
       "<folium.folium.Map at 0x19fca876c10>"
      ]
     },
     "execution_count": 47,
     "metadata": {},
     "output_type": "execute_result"
    }
   ],
   "source": [
    "# Add legend HTML\n",
    "legend_html = \"\"\"\n",
    "    <div style=\"position: fixed; \n",
    "                top: 10px; bottom: 10px; right: 10px; width: 180px; height: 160px; \n",
    "                background-color: white; z-index: 9999; font-size: 12px; \n",
    "                border:2px solid grey; border-radius: 5px; padding: 10px;\">\n",
    "        <b>Route Legend</b><br><br>\n",
    "        <i style=\"background:blue; padding:5px;\"></i> Shortest Time Route<br>\n",
    "        <i style=\"background:green; padding:5px;\"></i> Shortest Distance Route<br>\n",
    "        <i style=\"background:orange; padding:5px;\"></i> Route via Waypoint<br>\n",
    "        <i style=\"background:green; padding:5px;\"></i> Start<br>\n",
    "        <i style=\"background:red; padding:5px;\"></i> End<br>\n",
    "        <i style=\"background:purple; padding:5px;\"></i> Waypoint<br>\n",
    "    </div>\n",
    "\"\"\"\n",
    "route_map.get_root().html.add_child(folium.Element(legend_html))\n",
    "\n",
    "# Display the map\n",
    "route_map\n"
   ]
  },
  {
   "cell_type": "code",
   "execution_count": null,
   "metadata": {},
   "outputs": [],
   "source": []
  }
 ],
 "metadata": {
  "kernelspec": {
   "display_name": "Python 3",
   "language": "python",
   "name": "python3"
  },
  "language_info": {
   "codemirror_mode": {
    "name": "ipython",
    "version": 3
   },
   "file_extension": ".py",
   "mimetype": "text/x-python",
   "name": "python",
   "nbconvert_exporter": "python",
   "pygments_lexer": "ipython3",
   "version": "3.11.9"
  }
 },
 "nbformat": 4,
 "nbformat_minor": 2
}
